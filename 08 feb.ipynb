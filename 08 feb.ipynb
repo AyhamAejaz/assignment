{
 "cells": [
  {
   "cell_type": "markdown",
   "id": "79bd22a3-b87e-4ceb-accc-ddf19a72c53e",
   "metadata": {},
   "source": [
    "#What is Abstraction in OOps? Explain with an example."
   ]
  },
  {
   "cell_type": "markdown",
   "id": "11f88451-5881-4f7b-b144-8ee95c419adc",
   "metadata": {},
   "source": [
    "Abstraction is one of the fundamental concepts of object-oriented programming (OOP), which allows us to focus on the essential aspects of an object or system, without being concerned about the underlying complexity. Abstraction involves creating a simplified model or representation of the object that focuses on its essential characteristics and hides its implementation details."
   ]
  },
  {
   "cell_type": "code",
   "execution_count": 1,
   "id": "04cb99e9-20db-4666-9d51-6ecb083f5b83",
   "metadata": {},
   "outputs": [],
   "source": [
    "class Car:\n",
    "    def __init__(self, make, model, color):\n",
    "        self.make = make\n",
    "        self.model = model\n",
    "        self.color = color\n",
    "        self.speed = 0\n",
    "        \n",
    "    def accelerate(self, value):\n",
    "        self.speed += value\n",
    "        \n",
    "    def brake(self, value):\n",
    "        self.speed -= value\n",
    "        \n",
    "    def get_speed(self):\n",
    "        return self.speed\n"
   ]
  },
  {
   "cell_type": "code",
   "execution_count": 2,
   "id": "4f22983a-2de6-45df-9548-1052ee3674f6",
   "metadata": {},
   "outputs": [],
   "source": [
    "my_car = Car(\"Honda\", \"Civic\", \"red\")\n"
   ]
  },
  {
   "cell_type": "code",
   "execution_count": 3,
   "id": "f42d73e9-2dcc-462b-b64f-ace9bf24ae9f",
   "metadata": {},
   "outputs": [
    {
     "name": "stdout",
     "output_type": "stream",
     "text": [
      "50\n"
     ]
    }
   ],
   "source": [
    "my_car.accelerate(50)\n",
    "print(my_car.get_speed())\n"
   ]
  },
  {
   "cell_type": "markdown",
   "id": "4f7b4e44-1714-44a4-84ff-e409fdf2003e",
   "metadata": {},
   "source": [
    "#Differentiate between Abstraction and Encapsulation. Explain with an example."
   ]
  },
  {
   "cell_type": "markdown",
   "id": "6aa5dcb9-bda0-4c26-9420-b9f1c1c3a63d",
   "metadata": {},
   "source": [
    "Abstraction and encapsulation are two important concepts in object-oriented programming (OOP) that help to create robust, maintainable, and modular code. While they are related, they have different purposes and achieve their goals in different ways.\n",
    "\n",
    "Abstraction is the process of hiding complex implementation details and showing only the essential features of an object or system. It involves creating a simplified model or representation of the object that focuses on its essential characteristics and hides its implementation details. Abstraction allows us to work with complex systems without being concerned about the underlying complexity, and it enables us to create models or representations that are easier to understand and work with.\n",
    "\n",
    "Encapsulation, on the other hand, is the mechanism of binding the data and code that operate on it together in a single unit, such as a class in object-oriented programming. It enables data hiding, which means that the internal details of the object are not visible to the outside world, and can only be accessed through well-defined interfaces provided by the class. Encapsulation helps to ensure that the object's state remains consistent and that its behavior is well-defined."
   ]
  },
  {
   "cell_type": "code",
   "execution_count": 4,
   "id": "5c54f8cd-02df-45ea-9680-50453ca6bb1f",
   "metadata": {},
   "outputs": [],
   "source": [
    "class BankAccount:\n",
    "    def __init__(self, account_number):\n",
    "        self.account_number = account_number\n",
    "        self.balance = 0\n",
    "        \n",
    "    def deposit(self, amount):\n",
    "        self.balance += amount\n",
    "        \n",
    "    def withdraw(self, amount):\n",
    "        if self.balance >= amount:\n",
    "            self.balance -= amount\n",
    "        else:\n",
    "            print(\"Insufficient funds\")\n",
    "            \n",
    "    def get_balance(self):\n",
    "        return self.balance\n"
   ]
  },
  {
   "cell_type": "markdown",
   "id": "91ed3359-acfe-4ff9-a4b4-0db37d40aacd",
   "metadata": {},
   "source": [
    "In this example, the BankAccount class abstracts away the complex details of a bank account, such as interest rates, fees, and other financial calculations, and provides a simplified interface that allows us to interact with the account using a few simple methods, such as deposit(), withdraw(), and get_balance().\n",
    "\n"
   ]
  },
  {
   "cell_type": "code",
   "execution_count": 5,
   "id": "20f8ea14-2e2e-40f2-95de-7e238df59ece",
   "metadata": {},
   "outputs": [],
   "source": [
    "class BankAccount:\n",
    "    def __init__(self, account_number):\n",
    "        self.account_number = account_number\n",
    "        self.__balance = 0\n",
    "        \n",
    "    def deposit(self, amount):\n",
    "        self.__balance += amount\n",
    "        \n",
    "    def withdraw(self, amount):\n",
    "        if self.__balance >= amount:\n",
    "            self.__balance -= amount\n",
    "        else:\n",
    "            print(\"Insufficient funds\")\n",
    "            \n",
    "    def get_balance(self):\n",
    "        return self.__balance\n"
   ]
  },
  {
   "cell_type": "markdown",
   "id": "9a9817e4-44fd-47ff-a3be-918b1ed3ab45",
   "metadata": {},
   "source": [
    "In this example, we have made the balance attribute private by adding two underscores before its name (__balance). This means that it cannot be accessed or modified directly from outside the class. Instead, we have provided public methods (deposit(), withdraw(), and get_balance()) to access and modify the balance. These methods ensure that the balance remains consistent and that its behavior is well-defined"
   ]
  },
  {
   "cell_type": "markdown",
   "id": "3ff6f29c-642f-432c-b358-1d6b46b5fd1c",
   "metadata": {},
   "source": [
    "#What is abc module in python? Why is it used?"
   ]
  },
  {
   "cell_type": "markdown",
   "id": "49cc3116-baf3-49b0-85fd-e6e637eff4fe",
   "metadata": {},
   "source": [
    "The abc module in Python stands for \"Abstract Base Classes\", and it is used to define abstract classes in Python. An abstract class is a class that cannot be instantiated directly, but instead is designed to be subclassed and extended by other classes.\n",
    "\n",
    "The abc module provides a way to define abstract classes in Python by using the ABC (Abstract Base Class) and abstractmethod decorators. The ABC decorator is used to mark a class as an abstract base class, while the abstractmethod decorator is used to mark a method as an abstract method, which must be implemented by any concrete subclass."
   ]
  },
  {
   "cell_type": "markdown",
   "id": "6be09e1a-6740-4005-a1c5-44b43a628af8",
   "metadata": {},
   "source": [
    "#How can we achieve data abstraction?"
   ]
  },
  {
   "cell_type": "code",
   "execution_count": null,
   "id": "c97b5de1-42d6-4510-add6-7186c8c07d14",
   "metadata": {},
   "outputs": [],
   "source": []
  }
 ],
 "metadata": {
  "kernelspec": {
   "display_name": "Python 3 (ipykernel)",
   "language": "python",
   "name": "python3"
  },
  "language_info": {
   "codemirror_mode": {
    "name": "ipython",
    "version": 3
   },
   "file_extension": ".py",
   "mimetype": "text/x-python",
   "name": "python",
   "nbconvert_exporter": "python",
   "pygments_lexer": "ipython3",
   "version": "3.10.8"
  }
 },
 "nbformat": 4,
 "nbformat_minor": 5
}
