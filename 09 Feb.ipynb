{
 "cells": [
  {
   "cell_type": "markdown",
   "id": "d32b016c-ea86-458c-8660-e67e885d4fc0",
   "metadata": {},
   "source": [
    "#Create a vehicle class with an init method having instance variables as name_of_vehicle, max_speed\n",
    "and average_of_vehicle."
   ]
  },
  {
   "cell_type": "code",
   "execution_count": 6,
   "id": "6eec1b70-a345-4b83-8cc6-0040e8b73af7",
   "metadata": {},
   "outputs": [],
   "source": [
    "class Vehicle:\n",
    "    def __init__(self, name, max_speed, avg_speed):\n",
    "        self.name_of_vehicle = name\n",
    "        self.max_speed = max_speed\n",
    "        self.average_of_vehicle = avg_speed"
   ]
  },
  {
   "cell_type": "code",
   "execution_count": 7,
   "id": "7c255938-d62d-428c-99a2-5fd3b444dc89",
   "metadata": {},
   "outputs": [
    {
     "name": "stdout",
     "output_type": "stream",
     "text": [
      "Toyota\n",
      "200\n",
      "80\n"
     ]
    }
   ],
   "source": [
    "car1 = Vehicle(\"Toyota\", 200, 80)\n",
    "print(car1.name_of_vehicle)   \n",
    "print(car1.max_speed)         \n",
    "print(car1.average_of_vehicle) \n"
   ]
  },
  {
   "cell_type": "markdown",
   "id": "12dab0cb-7590-414a-a331-00aa7c3be73d",
   "metadata": {},
   "source": [
    "#Create a child class car from the vehicle class created in Que 1, which will inherit the vehicle class.\n",
    "Create a method named seating_capacity which takes capacity as an argument and returns the name of\n",
    "the vehicle and its seating capacity."
   ]
  },
  {
   "cell_type": "code",
   "execution_count": 8,
   "id": "9ced92bd-9bbb-4202-8bcf-4e24c958f182",
   "metadata": {},
   "outputs": [],
   "source": [
    "class Car(Vehicle):\n",
    "    def __init__(self, name, max_speed, avg_speed):\n",
    "        super().__init__(name, max_speed, avg_speed)\n",
    "        \n",
    "    def seating_capacity(self, capacity):\n",
    "        return f\"{self.name_of_vehicle} has a seating capacity of {capacity} passengers.\"\n",
    "    "
   ]
  },
  {
   "cell_type": "code",
   "execution_count": 9,
   "id": "8b7c2ac1-0ce5-435c-8739-540b0b2fe863",
   "metadata": {},
   "outputs": [
    {
     "name": "stdout",
     "output_type": "stream",
     "text": [
      "Toyota has a seating capacity of 5 passengers.\n"
     ]
    }
   ],
   "source": [
    "car1 = Car(\"Toyota\", 200, 80)\n",
    "print(car1.seating_capacity(5))"
   ]
  },
  {
   "cell_type": "markdown",
   "id": "64e70dab-7aab-422c-b697-5714d93c09b4",
   "metadata": {},
   "source": [
    "#What is multiple inheritance? Write a python code to demonstrate multiple inheritance."
   ]
  },
  {
   "cell_type": "markdown",
   "id": "338094aa-df71-4eb2-a288-d552f8962ca7",
   "metadata": {},
   "source": [
    "Multiple inheritance is a feature in object-oriented programming where a class can inherit from more than one parent class. This allows the child class to inherit attributes and methods from multiple parent classes. In Python, multiple inheritance is supported by allowing a child class to inherit from multiple parent classes in the class definition.\n",
    "\n"
   ]
  },
  {
   "cell_type": "code",
   "execution_count": 1,
   "id": "4dfd5824-322d-4d08-9dde-a1fb92fa8397",
   "metadata": {},
   "outputs": [
    {
     "name": "stdout",
     "output_type": "stream",
     "text": [
      "This is method 1 of Parent 1.\n",
      "This is method 2 of Parent 2.\n",
      "This is method 3 of Child.\n"
     ]
    }
   ],
   "source": [
    "class Parent1:\n",
    "    def method1(self):\n",
    "        print(\"This is method 1 of Parent 1.\")\n",
    "        \n",
    "class Parent2:\n",
    "    def method2(self):\n",
    "        print(\"This is method 2 of Parent 2.\")\n",
    "\n",
    "class Child(Parent1, Parent2):\n",
    "    def method3(self):\n",
    "        print(\"This is method 3 of Child.\")\n",
    "\n",
    "obj = Child()\n",
    "obj.method1()  \n",
    "obj.method2()   \n",
    "obj.method3()  \n"
   ]
  },
  {
   "cell_type": "markdown",
   "id": "1153edbb-0135-445f-9339-9153124366e4",
   "metadata": {},
   "source": [
    "#What are getter and setter in python? Create a class and create a getter and a setter method in this\n",
    "class."
   ]
  },
  {
   "cell_type": "markdown",
   "id": "bace8e74-c7bf-4743-bdfb-3e1a007e27f6",
   "metadata": {},
   "source": [
    "In Python, getters and setters are methods used to retrieve and set the values of private instance variables in a class. Private instance variables are variables that can only be accessed and modified within the class, not from outside the class."
   ]
  },
  {
   "cell_type": "code",
   "execution_count": 2,
   "id": "19c8b0af-85ac-4f45-a2b6-89e4134d4154",
   "metadata": {},
   "outputs": [],
   "source": [
    "class Person:\n",
    "    def __init__(self, name, age):\n",
    "        self.__name = name\n",
    "        self.__age = age\n",
    "        \n",
    "    def get_name(self):\n",
    "        return self.__name\n",
    "    \n",
    "    def set_name(self, name):\n",
    "        self.__name = name\n",
    "        \n",
    "    def get_age(self):\n",
    "        return self.__age\n",
    "    \n",
    "    def set_age(self, age):\n",
    "        self.__age = age\n"
   ]
  },
  {
   "cell_type": "code",
   "execution_count": 3,
   "id": "c276c567-30ca-4273-a0ba-69b8a0c9ba70",
   "metadata": {},
   "outputs": [
    {
     "name": "stdout",
     "output_type": "stream",
     "text": [
      "John\n",
      "25\n",
      "Alice\n",
      "30\n"
     ]
    }
   ],
   "source": [
    "person1 = Person(\"John\", 25)\n",
    "print(person1.get_name())  \n",
    "print(person1.get_age())  \n",
    "\n",
    "person1.set_name(\"Alice\")\n",
    "person1.set_age(30)\n",
    "print(person1.get_name())  \n",
    "print(person1.get_age())  \n"
   ]
  },
  {
   "cell_type": "markdown",
   "id": "b3b04fa0-4c4f-422a-83a4-318982877f4d",
   "metadata": {},
   "source": [
    "#What is method overriding in python? Write a python code to demonstrate method overriding."
   ]
  },
  {
   "cell_type": "code",
   "execution_count": null,
   "id": "659ed4da-cccf-4c7e-8587-0baeea0bee0d",
   "metadata": {},
   "outputs": [],
   "source": [
    "n Python, method overriding is the ability of a subclass to provide its own implementation of a method that is already defined in its superclass. When a method is overridden, the subclass version of the method is called instead of the superclass version when the method is called on an instance of the subclass."
   ]
  }
 ],
 "metadata": {
  "kernelspec": {
   "display_name": "Python 3 (ipykernel)",
   "language": "python",
   "name": "python3"
  },
  "language_info": {
   "codemirror_mode": {
    "name": "ipython",
    "version": 3
   },
   "file_extension": ".py",
   "mimetype": "text/x-python",
   "name": "python",
   "nbconvert_exporter": "python",
   "pygments_lexer": "ipython3",
   "version": "3.10.8"
  }
 },
 "nbformat": 4,
 "nbformat_minor": 5
}
