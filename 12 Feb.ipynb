{
 "cells": [
  {
   "cell_type": "markdown",
   "id": "437df6a4-0782-4cbc-b626-5333c6d4fc11",
   "metadata": {},
   "source": [
    "#What is Exception in python? Write the difference between Exceptions\n",
    "and Syntax errors"
   ]
  },
  {
   "cell_type": "markdown",
   "id": "09feaaa3-ed34-413d-8c11-3ffe6bcbea38",
   "metadata": {},
   "source": [
    "In Python, an exception is an event that occurs during the execution of a program that disrupts the normal flow of the program's instructions. When an exception occurs, the program execution is halted, and Python raises an exception object."
   ]
  },
  {
   "cell_type": "markdown",
   "id": "fe65525e-ad44-40a7-865d-890ec726d645",
   "metadata": {},
   "source": [
    "The key difference between exceptions and syntax errors in Python is that syntax errors occur when the Python interpreter is unable to parse the program code, while exceptions occur during the execution of the program.\n",
    "\n",
    "Syntax errors are usually easy to fix because the interpreter provides specific error messages that identify the problem in the code. On the other hand, exceptions are often more challenging to handle because they can occur at runtime, and their causes may not always be obvious."
   ]
  },
  {
   "cell_type": "markdown",
   "id": "01f1ac98-8a5a-43a2-847d-13b23cac34f4",
   "metadata": {},
   "source": [
    "#What happens when an exception is not handled? Explain with an example?"
   ]
  },
  {
   "cell_type": "markdown",
   "id": "63002f82-1fd7-401c-92ce-f1492c916fd6",
   "metadata": {},
   "source": [
    "When an exception is not handled in Python, the program execution is terminated, and a traceback message is printed to the console or log file. The traceback message provides information about the exception, including its type and location in the program's code. This can be helpful in identifying the cause of the exception and fixing the code."
   ]
  },
  {
   "cell_type": "code",
   "execution_count": 3,
   "id": "9158f0a3-281c-41bc-b3b8-8fcef8fe1afe",
   "metadata": {},
   "outputs": [
    {
     "ename": "ZeroDivisionError",
     "evalue": "division by zero",
     "output_type": "error",
     "traceback": [
      "\u001b[0;31m---------------------------------------------------------------------------\u001b[0m",
      "\u001b[0;31mZeroDivisionError\u001b[0m                         Traceback (most recent call last)",
      "Cell \u001b[0;32mIn[3], line 7\u001b[0m\n\u001b[1;32m      4\u001b[0m x \u001b[38;5;241m=\u001b[39m \u001b[38;5;241m10\u001b[39m\n\u001b[1;32m      5\u001b[0m y \u001b[38;5;241m=\u001b[39m \u001b[38;5;241m0\u001b[39m\n\u001b[0;32m----> 7\u001b[0m result \u001b[38;5;241m=\u001b[39m \u001b[43mdivide\u001b[49m\u001b[43m(\u001b[49m\u001b[43mx\u001b[49m\u001b[43m,\u001b[49m\u001b[43m \u001b[49m\u001b[43my\u001b[49m\u001b[43m)\u001b[49m\n\u001b[1;32m      8\u001b[0m \u001b[38;5;28mprint\u001b[39m(result)\n",
      "Cell \u001b[0;32mIn[3], line 2\u001b[0m, in \u001b[0;36mdivide\u001b[0;34m(a, b)\u001b[0m\n\u001b[1;32m      1\u001b[0m \u001b[38;5;28;01mdef\u001b[39;00m \u001b[38;5;21mdivide\u001b[39m(a, b):\n\u001b[0;32m----> 2\u001b[0m     \u001b[38;5;28;01mreturn\u001b[39;00m \u001b[43ma\u001b[49m\u001b[43m \u001b[49m\u001b[38;5;241;43m/\u001b[39;49m\u001b[43m \u001b[49m\u001b[43mb\u001b[49m\n",
      "\u001b[0;31mZeroDivisionError\u001b[0m: division by zero"
     ]
    }
   ],
   "source": [
    "def divide(a, b):\n",
    "    return a / b\n",
    "\n",
    "x = 10\n",
    "y = 0\n",
    "\n",
    "result = divide(x, y)\n",
    "print(result)\n"
   ]
  },
  {
   "cell_type": "markdown",
   "id": "938c69d5-5f2b-40a7-8847-d3b1d348228f",
   "metadata": {},
   "source": [
    "#which python statements are used to catch and handle exceptions? Explain with an example"
   ]
  },
  {
   "cell_type": "markdown",
   "id": "5f2b2836-9231-4f90-96ba-6e971a6f76b0",
   "metadata": {},
   "source": [
    "To catch and handle exceptions in Python, we use try-except statements. The try block contains the code that might raise an exception, and the except block contains the code to handle the exception if it occurs."
   ]
  },
  {
   "cell_type": "code",
   "execution_count": 4,
   "id": "f842b5f5-f977-4a18-b461-c5daf992db54",
   "metadata": {},
   "outputs": [
    {
     "name": "stdout",
     "output_type": "stream",
     "text": [
      "Error: division by zero\n",
      "None\n"
     ]
    }
   ],
   "source": [
    "def divide(a, b):\n",
    "    try:\n",
    "        result = a / b\n",
    "    except ZeroDivisionError:\n",
    "        print(\"Error: division by zero\")\n",
    "        result = None\n",
    "    return result\n",
    "\n",
    "x = 10\n",
    "y = 0\n",
    "\n",
    "result = divide(x, y)\n",
    "print(result)\n"
   ]
  },
  {
   "cell_type": "markdown",
   "id": "73e44092-77b5-445c-ad22-867d9da03731",
   "metadata": {},
   "source": [
    "#Explain with an example: \n",
    "a. try and else \n",
    "b. finally \n",
    "c. raise"
   ]
  },
  {
   "cell_type": "code",
   "execution_count": 7,
   "id": "2f2eef4a-3113-4494-ad6e-b8f2ea89897a",
   "metadata": {},
   "outputs": [
    {
     "name": "stdout",
     "output_type": "stream",
     "text": [
      "Division successful\n",
      "Execution completed\n",
      "5.0\n",
      "Error: division by zero\n",
      "Execution completed\n",
      "None\n",
      "You are eligible to vote\n",
      "Age verification completed\n",
      "Error: Age must be at least 18\n",
      "Age verification completed\n"
     ]
    }
   ],
   "source": [
    "def divide (a, b):\n",
    "    try:\n",
    "        result = a / b\n",
    "    except ZeroDivisionError:\n",
    "        print(\"Error: division by zero\")\n",
    "        result = None\n",
    "    else:\n",
    "        print(\"Division successful\")\n",
    "    finally:\n",
    "        print(\"Execution completed\")\n",
    "    return result\n",
    "\n",
    "def check_age(age):\n",
    "    try:\n",
    "        if age < 18:\n",
    "            raise ValueError(\"Age must be at least 18\")\n",
    "        else:\n",
    "            print(\"You are eligible to vote\")\n",
    "    except ValueError as e:\n",
    "        print(\"Error:\" , e)\n",
    "    finally:\n",
    "        print(\"Age verification completed\")\n",
    "        \n",
    "print(divide(10, 2))\n",
    "print(divide(10, 0))\n",
    "\n",
    "check_age(20)\n",
    "check_age(15)"
   ]
  },
  {
   "cell_type": "markdown",
   "id": "98765404-f833-46bc-ae65-b838e82792d7",
   "metadata": {},
   "source": [
    "#What are Custom Exceptions in python? Why do we need Custom Exceptions? Explain with  an example"
   ]
  },
  {
   "cell_type": "markdown",
   "id": "de1b9815-9d8c-4f03-9119-1985a2417541",
   "metadata": {},
   "source": [
    "In Python, custom exceptions are user-defined exceptions that can be created to handle specific error conditions that are not covered by the built-in exceptions. These exceptions are defined using the class keyword, and they should inherit from the Exception class or one of its subclasses.\n",
    "\n",
    "We may need to create custom exceptions in Python to:\n",
    "\n",
    "Provide more informative error messages for specific error conditions in our programs.\n",
    "Group related errors together and handle them in a consistent way.\n",
    "Raise errors that are specific to our domain or application."
   ]
  },
  {
   "cell_type": "code",
   "execution_count": 8,
   "id": "cc223c18-d522-459a-b14f-5f40692027b6",
   "metadata": {},
   "outputs": [
    {
     "name": "stdout",
     "output_type": "stream",
     "text": [
      "50\n",
      "Error: Insufficient funds in account\n"
     ]
    }
   ],
   "source": [
    "class InsufficientFundsError(Exception):\n",
    "    pass\n",
    "\n",
    "class BankAccount:\n",
    "    def __init__(self, balance):\n",
    "        self.balance = balance\n",
    "        \n",
    "    def withdraw(self, amount):\n",
    "        if amount > self.balance:\n",
    "            raise InsufficientFundsError(\"Insufficient funds in account\")\n",
    "        self.balance -= amount\n",
    "        return self.balance\n",
    "\n",
    "account = BankAccount(100)\n",
    "try:\n",
    "    print(account.withdraw(50))\n",
    "    print(account.withdraw(80))\n",
    "except InsufficientFundsError as e:\n",
    "    print(\"Error:\", e)\n"
   ]
  },
  {
   "cell_type": "markdown",
   "id": "c2da8772-6c46-4272-8b16-f7cadfe25b76",
   "metadata": {},
   "source": [
    "#Create custom exception class. Use this class to handle an exception."
   ]
  },
  {
   "cell_type": "code",
   "execution_count": 9,
   "id": "39dbcefa-66c9-4d5e-beea-e0e9426dd5db",
   "metadata": {},
   "outputs": [
    {
     "name": "stdout",
     "output_type": "stream",
     "text": [
      "Error: Invalid input. Number must be a numeric value.\n"
     ]
    }
   ],
   "source": [
    "class InvalidInputError(Exception):\n",
    "    pass\n",
    "\n",
    "def calculate_square(number):\n",
    "    if not isinstance(number, (int, float)):\n",
    "        raise InvalidInputError(\"Invalid input. Number must be a numeric value.\")\n",
    "    return number ** 2\n",
    "\n",
    "try:\n",
    "    result = calculate_square(\"invalid\")\n",
    "    print(result)\n",
    "except InvalidInputError as e:\n",
    "    print(\"Error:\", e)\n"
   ]
  },
  {
   "cell_type": "code",
   "execution_count": null,
   "id": "99375f3b-e78a-46a2-8c46-5419a01075c6",
   "metadata": {},
   "outputs": [],
   "source": []
  }
 ],
 "metadata": {
  "kernelspec": {
   "display_name": "Python 3 (ipykernel)",
   "language": "python",
   "name": "python3"
  },
  "language_info": {
   "codemirror_mode": {
    "name": "ipython",
    "version": 3
   },
   "file_extension": ".py",
   "mimetype": "text/x-python",
   "name": "python",
   "nbconvert_exporter": "python",
   "pygments_lexer": "ipython3",
   "version": "3.10.8"
  }
 },
 "nbformat": 4,
 "nbformat_minor": 5
}
