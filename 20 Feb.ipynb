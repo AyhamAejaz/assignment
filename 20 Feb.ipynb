{
 "cells": [
  {
   "cell_type": "markdown",
   "id": "d0b0dece-2a06-4570-92df-5e0ed0ee087b",
   "metadata": {},
   "source": [
    "#Q1. Explain GET and POST methods."
   ]
  },
  {
   "cell_type": "markdown",
   "id": "5abeb19c-0a62-4340-8504-b334e0c35866",
   "metadata": {},
   "source": [
    "GET Method:\n",
    "The GET method is used to retrieve data from a server. When a client sends a GET request, it is asking the server to return a representation of a specific resource or a collection of resources. The request parameters, such as query strings, are usually appended to the URL. GET requests are typically used for operations that are idempotent, meaning they don't change the server's state. For example, when you enter a URL in a web browser, a GET request is sent to retrieve the webpage associated with that URL."
   ]
  },
  {
   "cell_type": "markdown",
   "id": "135be7dd-2f4e-4f6b-acd3-b81061997429",
   "metadata": {},
   "source": [
    "POST Method:\n",
    "The POST method is used to submit data to be processed by the server. When a client sends a POST request, the data is included in the body of the request rather than in the URL. POST requests are typically used for operations that modify or create resources on the server. For example, when you submit a form on a website, the form data is sent to the server using a POST request."
   ]
  },
  {
   "cell_type": "markdown",
   "id": "52ad9e64-58ac-40a2-9f44-7b9097bc1e96",
   "metadata": {},
   "source": [
    "#Q2. Why is request used in Flask?"
   ]
  },
  {
   "cell_type": "markdown",
   "id": "bfb35d32-f539-46ee-9970-7694b7db5b4f",
   "metadata": {},
   "source": [
    "In Flask, the request object is used to access and handle incoming HTTP requests made by clients. It provides a way to retrieve data sent by the client, such as form data, query parameters, headers, and more."
   ]
  },
  {
   "cell_type": "markdown",
   "id": "bdb5ee8a-77f7-4234-a769-9fda14db1c12",
   "metadata": {},
   "source": [
    "#Q3. Why is redirect() used in Flask?"
   ]
  },
  {
   "cell_type": "markdown",
   "id": "3b34089c-bee3-433c-a09b-319ef7642cd0",
   "metadata": {},
   "source": [
    "In Flask, the redirect() function is used to perform a redirect response to the client's web browser. It is a convenient way to direct the user to a different URL or route within the application."
   ]
  },
  {
   "cell_type": "markdown",
   "id": "b4a71b59-9053-4075-8f81-4b5870606b01",
   "metadata": {},
   "source": [
    "#Q4. What are templates in Flask? Why is the render_template() function used?"
   ]
  },
  {
   "cell_type": "markdown",
   "id": "b298def6-783f-4998-9460-23bc7b754046",
   "metadata": {},
   "source": [
    "In Flask, templates are files that contain dynamic content and are used to generate HTML pages. They separate the presentation logic from the application logic, making it easier to maintain and update the user interface of a web application."
   ]
  },
  {
   "cell_type": "markdown",
   "id": "cf7c520e-929c-4d2e-97fa-1f6cc92dce4a",
   "metadata": {},
   "source": [
    "The render_template() function in Flask is used to render and return a template as a response to the client's request. It takes the name of the template file as an argument, along with optional keyword arguments representing the data that will be passed to the template."
   ]
  },
  {
   "cell_type": "markdown",
   "id": "9a020aa4-e2c1-4551-8890-e27d6d1923f8",
   "metadata": {},
   "source": [
    "#Q5. Create a simple API. Use Postman to test it. Attach the screenshot of the output in the Jupyter Notebook."
   ]
  },
  {
   "cell_type": "code",
   "execution_count": null,
   "id": "b5712058-b3fb-47d0-b089-35c4226500a7",
   "metadata": {},
   "outputs": [],
   "source": []
  }
 ],
 "metadata": {
  "kernelspec": {
   "display_name": "Python 3 (ipykernel)",
   "language": "python",
   "name": "python3"
  },
  "language_info": {
   "codemirror_mode": {
    "name": "ipython",
    "version": 3
   },
   "file_extension": ".py",
   "mimetype": "text/x-python",
   "name": "python",
   "nbconvert_exporter": "python",
   "pygments_lexer": "ipython3",
   "version": "3.10.8"
  }
 },
 "nbformat": 4,
 "nbformat_minor": 5
}
