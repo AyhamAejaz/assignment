{
 "cells": [
  {
   "cell_type": "markdown",
   "id": "d1838c53-9fbf-4b8f-a755-44ce3d476c25",
   "metadata": {},
   "source": [
    "#Who developed programming language?\n"
   ]
  },
  {
   "cell_type": "markdown",
   "id": "74c1dea0-8208-4555-9fc6-741dbd4608cc",
   "metadata": {},
   "source": [
    "Guido van Rossum"
   ]
  },
  {
   "cell_type": "markdown",
   "id": "19c66335-7f1e-4bba-ac29-641372087ded",
   "metadata": {},
   "source": [
    "#Which type of programming  python support?"
   ]
  },
  {
   "cell_type": "markdown",
   "id": "164c1c3b-16e0-41ed-af11-bd686ab9fc2f",
   "metadata": {},
   "source": [
    "Python supports several programming paradigms, including:\n",
    "\n",
    "Procedural Programming\n",
    "Object-Oriented Programming (OOP)\n",
    "Functional Programming\n",
    "Aspect-oriented Programming (AOP)"
   ]
  },
  {
   "cell_type": "markdown",
   "id": "fbc594ec-f456-4f73-99f9-444411a015d0",
   "metadata": {},
   "source": [
    "#Is Python case sensitive when dealing with identifiers?"
   ]
  },
  {
   "cell_type": "markdown",
   "id": "91a9d20f-e0c6-4093-ad42-9852bcc1dd7b",
   "metadata": {},
   "source": [
    "Yes, Python is case sensitive when dealing with identifiers."
   ]
  },
  {
   "cell_type": "markdown",
   "id": "8f3ef315-90e1-4cc3-aa85-81ed06c53b9a",
   "metadata": {},
   "source": [
    "#what is the correct extension of the python file?"
   ]
  },
  {
   "cell_type": "markdown",
   "id": "b5754c1b-088e-479c-979b-454a7bdc781e",
   "metadata": {},
   "source": [
    "The correct extension of a python file is '.py'."
   ]
  },
  {
   "cell_type": "markdown",
   "id": "c9630fb2-829c-4ddd-a651-b643ea30f63d",
   "metadata": {},
   "source": [
    "#Is python code compiled or interpreted?"
   ]
  },
  {
   "cell_type": "markdown",
   "id": "2668a09c-fa28-4354-a030-f88a45e89805",
   "metadata": {},
   "source": [
    "Python code is interpreted, not compiled"
   ]
  },
  {
   "cell_type": "markdown",
   "id": "556e1a02-9198-415b-9c79-4b28acaa4b7a",
   "metadata": {},
   "source": [
    "#Name a few blocks of code used to define in Python language? "
   ]
  },
  {
   "cell_type": "markdown",
   "id": "12d59926-9fc7-4822-807c-eb06b5d42c46",
   "metadata": {},
   "source": [
    "1. Function blocks\n",
    "2. Conditional blocks\n",
    "3. Loop blocks"
   ]
  },
  {
   "cell_type": "markdown",
   "id": "68c9a977-24ba-4183-be59-86877a768716",
   "metadata": {},
   "source": [
    "#State a character used to give single-line comments in Python? \n"
   ]
  },
  {
   "cell_type": "markdown",
   "id": "46bf689a-c0dd-411e-b020-de0d85b2bbd6",
   "metadata": {},
   "source": [
    "In Python, the # character is used to create single-line comments."
   ]
  },
  {
   "cell_type": "markdown",
   "id": "ed4a8e65-df70-45dc-9d25-032f54dce77d",
   "metadata": {},
   "source": [
    "#Mention functions which can help us to find the version of python that we are currently working on? \n"
   ]
  },
  {
   "cell_type": "markdown",
   "id": "776d1de9-d8f0-4cdb-9e88-c0cde16a571a",
   "metadata": {},
   "source": [
    "1. sys module\n",
    "2. platform module\n"
   ]
  },
  {
   "cell_type": "markdown",
   "id": "f194b4b1-9325-4ee1-85b3-96cd75dc4cbc",
   "metadata": {},
   "source": [
    "#Python supports the creation of anonymous functions at runtime, using a construct called?"
   ]
  },
  {
   "cell_type": "markdown",
   "id": "8a97d5cd-5d3e-4420-b6fd-f90a5195072a",
   "metadata": {},
   "source": [
    "Python supports the creation of anonymous functions at runtime, using a construct called \"lambda\" functions.\n",
    "\n"
   ]
  },
  {
   "cell_type": "markdown",
   "id": "eeeadb7e-2dc1-4959-b67a-f9d3c46598f6",
   "metadata": {},
   "source": [
    "#What does pip stand for python? "
   ]
  },
  {
   "cell_type": "markdown",
   "id": "05944abf-49ed-4ce7-983c-3b5508890343",
   "metadata": {},
   "source": [
    "In Python, \"pip\" stands for \"Pip Installs Packages\"."
   ]
  },
  {
   "cell_type": "markdown",
   "id": "5e326961-cd0f-4336-9584-fc041aa9e230",
   "metadata": {},
   "source": [
    "#Mention a few built-in functions in python? "
   ]
  },
  {
   "cell_type": "markdown",
   "id": "d400c810-8403-47f0-9aa7-8aa2fc913041",
   "metadata": {},
   "source": [
    "1. print()\n",
    "2. input()\n",
    "3. type()\n",
    "4. len()\n",
    "5. range()"
   ]
  },
  {
   "cell_type": "markdown",
   "id": "b8f0b4d6-97be-44b1-885b-5f1c2a22d5f5",
   "metadata": {},
   "source": [
    "#What is the maximum possible length of an identifier in Python? "
   ]
  },
  {
   "cell_type": "markdown",
   "id": "17fc13d6-fd0b-442a-8402-ebd984bbf14a",
   "metadata": {},
   "source": [
    "79 characters long."
   ]
  },
  {
   "cell_type": "markdown",
   "id": "42fbafa1-a0d2-407d-9e42-979e806066da",
   "metadata": {},
   "source": [
    "#What are the benefits of using Python?"
   ]
  },
  {
   "cell_type": "markdown",
   "id": "f359cf4e-829f-4473-9e77-00d62029c44e",
   "metadata": {},
   "source": [
    "Easy to Learn and Use\n",
    "Cross-platform Compatibility\n",
    "Large Standard Library\n",
    "Third-party Libraries and Framework"
   ]
  },
  {
   "cell_type": "markdown",
   "id": "54b4d617-1f78-46c5-89f1-060aa8e49123",
   "metadata": {},
   "source": [
    "#How is memory managed in Python? \n"
   ]
  },
  {
   "cell_type": "markdown",
   "id": "a7cb7e42-ba62-4378-8acd-22a032a00656",
   "metadata": {},
   "source": [
    "Python, memory management is handled by the Python memory manager. The memory manager allocates and deallocates memory as required by the program. It uses a combination of techniques like reference counting, garbage collection, and memory pooling to manage memory efficiently.\n",
    "\n"
   ]
  },
  {
   "cell_type": "markdown",
   "id": "0673742a-04e3-4c88-8424-115932b58105",
   "metadata": {},
   "source": [
    "#How to install Python on Windows and set path variables? 16. Is indentation required in python?"
   ]
  },
  {
   "cell_type": "markdown",
   "id": "4ff99f14-0973-4e75-a675-5c35d976cd18",
   "metadata": {},
   "source": [
    "To install Python on Windows and set path variables, you can follow these steps:\n",
    "\n",
    "Download the Python installer for Windows from the official Python website (https://www.python.org/downloads/windows/).\n",
    "Run the installer and select the option to add Python to the system PATH variable during the installation process.\n",
    "Once the installation is complete, you can verify that Python is installed correctly by opening the command prompt and typing \"python\" followed by Enter. This should open the Python interpreter.\n"
   ]
  }
 ],
 "metadata": {
  "kernelspec": {
   "display_name": "Python 3 (ipykernel)",
   "language": "python",
   "name": "python3"
  },
  "language_info": {
   "codemirror_mode": {
    "name": "ipython",
    "version": 3
   },
   "file_extension": ".py",
   "mimetype": "text/x-python",
   "name": "python",
   "nbconvert_exporter": "python",
   "pygments_lexer": "ipython3",
   "version": "3.10.8"
  }
 },
 "nbformat": 4,
 "nbformat_minor": 5
}
