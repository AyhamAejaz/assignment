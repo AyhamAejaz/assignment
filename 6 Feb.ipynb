{
 "cells": [
  {
   "cell_type": "markdown",
   "id": "e2266bab-d3d1-4497-a02f-96c96b2cb32b",
   "metadata": {},
   "source": [
    "#Create a function which will take a list as an argument and return the product of all the numbers\n",
    "after creating a flat list.\n",
    "Use the below-given list as an argument for your function.\n",
    "list1 = [1,2,3,4, [44,55,66, True], False, (34,56,78,89,34), {1,2,3,3,2,1}, {1:34, \"key2\": [55, 67, 78, 89], 4: (45,\n",
    "22, 61, 34)}, [56, 'data science'], 'Machine Learning']"
   ]
  },
  {
   "cell_type": "code",
   "execution_count": 12,
   "id": "5789ef11-3c33-4443-92be-a8ffc5760a99",
   "metadata": {},
   "outputs": [],
   "source": [
    "def product_of_numbers(lst):\n",
    "    flat_list = []\n",
    "    for item in lst:\n",
    "        if type(item) == int or type(item) == float:\n",
    "            flat_list.append(item)\n",
    "        elif type(item) == list or type(item) == tuple or type(item) == set:\n",
    "            for sub_item in item:\n",
    "                if type(sub_item) == int or type(sub_item) == float:\n",
    "                    flat_list.append(sub_item)\n",
    "        elif type(item) == dict:\n",
    "            for value in item.values():\n",
    "                if type(value) == int or type(value) == float:\n",
    "                    flat_list.append(value)\n",
    "    product = 1\n",
    "    for num in flat_list:\n",
    "        product *= num\n",
    "    return product"
   ]
  },
  {
   "cell_type": "code",
   "execution_count": 13,
   "id": "cd3f7f46-868d-4b7d-b9c5-c9b32f8a15ba",
   "metadata": {},
   "outputs": [
    {
     "name": "stdout",
     "output_type": "stream",
     "text": [
      "19679733278309744640\n"
     ]
    }
   ],
   "source": [
    "list1 = [1,2,3,4, [44,55,66, True], False, (34,56,78,89,34), {1,2,3,3,2,1}, {1:34, \"key2\": [55, 67, 78, 89], 4: (45, 22, 61, 34)}, [56, 'data science'], 'Machine Learning']\n",
    "result = product_of_numbers(list1)\n",
    "print(result)"
   ]
  },
  {
   "cell_type": "markdown",
   "id": "845a438e-1094-4796-809e-a41283b43534",
   "metadata": {},
   "source": [
    "#Here is a Python program that encrypts a message according to the given rules:\n",
    "\n"
   ]
  },
  {
   "cell_type": "code",
   "execution_count": 17,
   "id": "e42b843e-ddf1-4b82-a5bd-ba30bb97c007",
   "metadata": {},
   "outputs": [
    {
     "name": "stdout",
     "output_type": "stream",
     "text": [
      "r$dzmg$gl$yvxlnv$z$wzgz$hxrvmgrhg.\n"
     ]
    }
   ],
   "source": [
    "def encrypt_message(message):\n",
    "    \"\"\"\n",
    "    Encrypts the given message by replacing each character with the corresponding encrypted character.\n",
    "    \"\"\"\n",
    "    encrypted_message = ''\n",
    "    for char in message.lower():\n",
    "        if char == ' ':\n",
    "            encrypted_message += '$'\n",
    "        elif char.isalpha():\n",
    "            encrypted_char = chr(ord('a') + (ord('z') - ord(char)))\n",
    "            encrypted_message += encrypted_char\n",
    "        else:\n",
    "            encrypted_message += char\n",
    "    return encrypted_message\n",
    "\n",
    "message = \"I want to become a Data Scientist.\"\n",
    "encrypted_message = encrypt_message(message)\n",
    "print(encrypted_message)\n"
   ]
  },
  {
   "cell_type": "code",
   "execution_count": null,
   "id": "a376ecaf-d203-4436-950b-b93cd4a989b8",
   "metadata": {},
   "outputs": [],
   "source": []
  }
 ],
 "metadata": {
  "kernelspec": {
   "display_name": "Python 3 (ipykernel)",
   "language": "python",
   "name": "python3"
  },
  "language_info": {
   "codemirror_mode": {
    "name": "ipython",
    "version": 3
   },
   "file_extension": ".py",
   "mimetype": "text/x-python",
   "name": "python",
   "nbconvert_exporter": "python",
   "pygments_lexer": "ipython3",
   "version": "3.10.8"
  }
 },
 "nbformat": 4,
 "nbformat_minor": 5
}
