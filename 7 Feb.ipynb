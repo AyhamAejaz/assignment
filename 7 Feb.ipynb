{
 "cells": [
  {
   "cell_type": "markdown",
   "id": "3ef399b9-cae9-4e0c-b637-e9e8d19aae04",
   "metadata": {},
   "source": [
    "#Here is an example implementation of the function that checks whether a password meets the given requirements or not:\n",
    "\n"
   ]
  },
  {
   "cell_type": "code",
   "execution_count": 2,
   "id": "1eb7950b-1c83-409f-b813-728741f27d74",
   "metadata": {},
   "outputs": [],
   "source": [
    "import re\n",
    "\n",
    "def check_password(password):\n",
    "    # Password should be exactly 10 characters long\n",
    "    if len(password) != 10:\n",
    "        return \"Invalid Password\"\n",
    "    # Password should contain at least two uppercase letters\n",
    "    if not re.search(r\"[A-Z].*[A-Z]\", password):\n",
    "        return \"Invalid Password\"\n",
    "    # Password contain at least two lowercase letters\n",
    "    if not re.search(r\"[a-z].*[a-z]\", password):\n",
    "        return \"Invalid Password\"\n",
    "    # Password should contain at least one number\n",
    "    if not re.search(r\"\\d\", password):\n",
    "        return \"Invalid Password\"\n",
    "    # Password should contain at least three special characters\n",
    "    if not re.search(r\"[^A-Za-z0-9]{3,}\", password):\n",
    "        return \"Invalid Password\"\n",
    "    # If all conditions are met, return \"Valid Password\"\n",
    "    return \"Valid Password\"\n",
    "    "
   ]
  },
  {
   "cell_type": "markdown",
   "id": "8fd58353-f5ad-4985-9bf1-146c3da8fbe6",
   "metadata": {},
   "source": [
    "#Check if the string starts with a particular letter:\n"
   ]
  },
  {
   "cell_type": "code",
   "execution_count": 3,
   "id": "8163a920-eeea-40cb-9d50-ceebc43e4ccf",
   "metadata": {},
   "outputs": [
    {
     "name": "stdout",
     "output_type": "stream",
     "text": [
      "True\n",
      "False\n"
     ]
    }
   ],
   "source": [
    "starts_with = lambda s, letter: s.startswith(letter)\n",
    "print(starts_with(\"hello\", \"h\")) \n",
    "print(starts_with(\"world\", \"h\")) \n"
   ]
  },
  {
   "cell_type": "markdown",
   "id": "72d1ce91-8c89-4ed8-8bcf-cdbe406cb947",
   "metadata": {},
   "source": [
    "#Check if the string is numeric\n"
   ]
  },
  {
   "cell_type": "code",
   "execution_count": 4,
   "id": "effe59ea-9735-42f3-975f-e823c8cb35da",
   "metadata": {},
   "outputs": [
    {
     "name": "stdout",
     "output_type": "stream",
     "text": [
      "True\n",
      "False\n"
     ]
    }
   ],
   "source": [
    "is_numeric = lambda s: s.isnumeric()\n",
    "print(is_numeric(\"123\")) #True\n",
    "print(is_numeric(\"12a3\")) #False"
   ]
  },
  {
   "cell_type": "markdown",
   "id": "1d54d512-3382-4a9e-a8fd-b394e5ad348c",
   "metadata": {},
   "source": [
    "#Sort a list of tuples having fruit names and their quantity"
   ]
  },
  {
   "cell_type": "code",
   "execution_count": 5,
   "id": "3c46ad3c-ef87-40a6-8aa1-4dc28b2c4d54",
   "metadata": {},
   "outputs": [
    {
     "name": "stdout",
     "output_type": "stream",
     "text": [
      "[('orange', 80), ('mango', 99), ('grapes', 1000)]\n"
     ]
    }
   ],
   "source": [
    "fruits = [(\"mango\", 99), (\"orange\", 80), (\"grapes\", 1000)]\n",
    "fruits.sort(key=lambda x: x[1])\n",
    "print(fruits)"
   ]
  },
  {
   "cell_type": "markdown",
   "id": "94a3a4f9-ca41-4c62-a686-5272c7a5c9ef",
   "metadata": {},
   "source": [
    "#Find the squares of numbers from 1 to 10:"
   ]
  },
  {
   "cell_type": "code",
   "execution_count": 7,
   "id": "1a60f567-9b3c-4928-adb9-439fbeca1bb2",
   "metadata": {},
   "outputs": [
    {
     "name": "stdout",
     "output_type": "stream",
     "text": [
      "[1, 4, 9, 16, 25, 36, 49, 64, 81, 100]\n"
     ]
    }
   ],
   "source": [
    "squares = [x*x for x in range(1, 11)]\n",
    "print(squares)"
   ]
  },
  {
   "cell_type": "markdown",
   "id": "926a5bc7-54ad-4ae1-a3b0-7a99066d1ff9",
   "metadata": {},
   "source": [
    "#Find the cube root of numbers from 1 to 10:"
   ]
  },
  {
   "cell_type": "code",
   "execution_count": 8,
   "id": "cdbcd5c8-bafb-49f2-8d48-c5de1a9ffd32",
   "metadata": {},
   "outputs": [
    {
     "name": "stdout",
     "output_type": "stream",
     "text": [
      "[1.0, 1.2599210498948732, 1.4422495703074083, 1.5874010519681994, 1.7099759466766968, 1.8171205928321397, 1.912931182772389, 2.0, 2.080083823051904, 2.154434690031884]\n"
     ]
    }
   ],
   "source": [
    "import math\n",
    "cube_roots = [math.pow(x, 1/3) for x in range(1, 11)]\n",
    "print(cube_roots)   \n"
   ]
  },
  {
   "cell_type": "markdown",
   "id": "caf43469-586b-41fc-8e5f-e2de6287f34c",
   "metadata": {},
   "source": [
    "#Check if a given number is even:\n"
   ]
  },
  {
   "cell_type": "code",
   "execution_count": 10,
   "id": "78354295-36b2-4202-af30-f14347c26ed2",
   "metadata": {},
   "outputs": [
    {
     "name": "stdout",
     "output_type": "stream",
     "text": [
      "True\n",
      "False\n"
     ]
    }
   ],
   "source": [
    "is_even = lambda x: x % 2 == 0\n",
    "print(is_even(4)) \n",
    "print(is_even(5))  \n"
   ]
  },
  {
   "cell_type": "markdown",
   "id": "2ff5f21c-0a4b-4092-b9aa-f46cf554467e",
   "metadata": {},
   "source": [
    "#Filter odd numbers from the given list"
   ]
  },
  {
   "cell_type": "code",
   "execution_count": 11,
   "id": "029b99f5-55f1-43a7-861a-b431f9e386d0",
   "metadata": {},
   "outputs": [
    {
     "name": "stdout",
     "output_type": "stream",
     "text": [
      "[1, 3, 5, 7, 9]\n"
     ]
    }
   ],
   "source": [
    "numbers = [1, 2, 3, 4, 5, 6, 7, 8, 9, 10]\n",
    "odd_numbers = list(filter(lambda x: x % 2 == 1, numbers))\n",
    "print(odd_numbers)  \n"
   ]
  },
  {
   "cell_type": "markdown",
   "id": "d11277d7-8521-4b49-bc86-ada247a3ccc9",
   "metadata": {},
   "source": [
    "#Sort a list of integers into positive and negative integers lists"
   ]
  },
  {
   "cell_type": "code",
   "execution_count": null,
   "id": "35a2847b-e769-4866-af6e-d1ac8d05d6e6",
   "metadata": {},
   "outputs": [],
   "source": []
  }
 ],
 "metadata": {
  "kernelspec": {
   "display_name": "Python 3 (ipykernel)",
   "language": "python",
   "name": "python3"
  },
  "language_info": {
   "codemirror_mode": {
    "name": "ipython",
    "version": 3
   },
   "file_extension": ".py",
   "mimetype": "text/x-python",
   "name": "python",
   "nbconvert_exporter": "python",
   "pygments_lexer": "ipython3",
   "version": "3.10.8"
  }
 },
 "nbformat": 4,
 "nbformat_minor": 5
}
