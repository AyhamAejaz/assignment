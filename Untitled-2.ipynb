{
 "cells": [
  {
   "cell_type": "markdown",
   "id": "8e73e4fd-9b95-4cc9-95df-faa20c6e70c7",
   "metadata": {},
   "source": [
    "#which keyword is used to create a function"
   ]
  },
  {
   "cell_type": "markdown",
   "id": "4d262d63-c3f5-410b-b3f3-25254576f3dc",
   "metadata": {},
   "source": [
    "#def"
   ]
  },
  {
   "cell_type": "markdown",
   "id": "bcd1b762-aeed-417f-b038-acf2f125a8ba",
   "metadata": {},
   "source": [
    "#a function to return a list of odd numbers in the range of 1 to 25"
   ]
  },
  {
   "cell_type": "code",
   "execution_count": 22,
   "id": "49d40cae-7d93-4024-a138-173ad21062b4",
   "metadata": {},
   "outputs": [
    {
     "name": "stdout",
     "output_type": "stream",
     "text": [
      "1 3 5 7 9 11 13 15 17 19 21 23 25 "
     ]
    }
   ],
   "source": [
    "def odd(num1,num2):\n",
    "    if num1>num2:\n",
    "        return\n",
    "    if num1&1:\n",
    "      print(num1,end=\" \")\n",
    "      return odd(num1+2,num2)\n",
    "    else:\n",
    "      return odd(num1+1,num2)\n",
    "num1=1;num2=25\n",
    "odd(num1,num2)\n"
   ]
  },
  {
   "cell_type": "markdown",
   "id": "2c1983a5-57e5-4bf7-9571-6a857c96f682",
   "metadata": {},
   "source": [
    "#Why *args and **kwargs is used in some functions? "
   ]
  },
  {
   "cell_type": "markdown",
   "id": "afdc3602-d96d-4580-aae1-31be677eafd6",
   "metadata": {},
   "source": [
    "#*args and **kwargs are special syntax in Python that allow functions to accept an arbitrary number of arguments.\n",
    "\n"
   ]
  },
  {
   "cell_type": "markdown",
   "id": "19a34e38-7bc4-4765-abea-dc13379de092",
   "metadata": {},
   "source": [
    "#Function using *args to concatenate a variable number of string"
   ]
  },
  {
   "cell_type": "code",
   "execution_count": 24,
   "id": "7bed5451-1fff-4fa5-95e6-c14a5ea6d672",
   "metadata": {},
   "outputs": [],
   "source": [
    "def concatenate_strings(*args):\n",
    "    result = ''\n",
    "    for string in args:\n",
    "        result += string\n",
    "    return result\n"
   ]
  },
  {
   "cell_type": "markdown",
   "id": "f110ff7c-db17-4cd9-a336-92b56e3b3a1f",
   "metadata": {
    "tags": []
   },
   "source": [
    "#Function using **kwargs to print a dictionary of key-value pairs"
   ]
  },
  {
   "cell_type": "code",
   "execution_count": 29,
   "id": "23483853-3208-41a8-8363-bfdc9d5d9954",
   "metadata": {},
   "outputs": [],
   "source": [
    "def print_dictionary(**kwargs):\n",
    "    for key, value in kwargs.items():\n",
    "        print(f\"{key}: {value}\")"
   ]
  },
  {
   "cell_type": "markdown",
   "id": "3f3f3c28-d8f1-481b-bbff-3cd10f3e2366",
   "metadata": {},
   "source": [
    "#what is an iterator?"
   ]
  },
  {
   "cell_type": "markdown",
   "id": "fd9bea1a-efa0-4227-9bb6-68eafbfe9bd3",
   "metadata": {},
   "source": [
    "#An iterator in Python is an object that allows you to traverse through a collection of items, one at a time, without having to know the underlying implementation of the collection. In other words, an iterator is a tool for iterating through sequences or collections of data in a predictable way.\n",
    "\n",
    "In Python, an iterator is an object that implements the iterator protocol, which requires the implementation of two methods: __iter__() and __next__().\n",
    "\n",
    "__iter__() method is used to initialize the iterator object and should return the iterator object itself.\n",
    "__next__() method is used for iteration and should return the next item in the sequence. When there are no more items to return, it should raise the StopIteration exception.\n"
   ]
  },
  {
   "cell_type": "markdown",
   "id": "d5e6e15a-4442-4c85-960c-3a0e21cf6d11",
   "metadata": {},
   "source": [
    "#Here's an example of using an iterator to print the first five elements of the list [2, 4, 6, 8, 10, 12, 14, 16, 18, 20]:"
   ]
  },
  {
   "cell_type": "code",
   "execution_count": 21,
   "id": "54ab221d-1a8b-47e9-98c2-39dc6a72603d",
   "metadata": {},
   "outputs": [
    {
     "name": "stdout",
     "output_type": "stream",
     "text": [
      "2\n",
      "4\n",
      "6\n",
      "8\n",
      "10\n"
     ]
    }
   ],
   "source": [
    "my_list = [2, 4, 6, 8, 10, 12, 14, 16, 18, 20]\n",
    "my_iterator = iter(my_list)\n",
    "\n",
    "for i in range(5):\n",
    "    print(next(my_iterator))\n"
   ]
  },
  {
   "cell_type": "markdown",
   "id": "64ef7f1c-7f68-488c-ad15-657208a6448d",
   "metadata": {},
   "source": [
    "#what is a generator function in python?"
   ]
  },
  {
   "cell_type": "markdown",
   "id": "2a912d55-3dab-49d3-b635-7783c1d9c2ef",
   "metadata": {},
   "source": [
    "#A generator function is a special type of function that allows you to generate a sequence of values on the fly, without having to create and store all the values in memory at once. This is particularly useful when you're dealing with large amounts of data that you don't want to load into memory all at once.\n",
    "\n"
   ]
  },
  {
   "cell_type": "markdown",
   "id": "58fb5170-bee8-41f3-8b80-ca069ca6b868",
   "metadata": {},
   "source": [
    "#why yield keyboard is used"
   ]
  },
  {
   "cell_type": "markdown",
   "id": "7df95b87-15b1-42ac-8b78-be7cb303abe8",
   "metadata": {},
   "source": [
    "#The key feature of a generator function is the use of the yield keyword. When a yield statement is encountered in a generator function, it suspends the function's execution and sends a value back to the caller. The function can then be resumed from where it left off the next time it is called, and it can continue to yield values until it reaches the end of the sequence."
   ]
  },
  {
   "cell_type": "markdown",
   "id": "9f6e0f2b-8136-43f5-a9ba-00165560353f",
   "metadata": {},
   "source": [
    "#Here's an example of a simple generator function in Python:\n"
   ]
  },
  {
   "cell_type": "code",
   "execution_count": 35,
   "id": "ddf8e178-f743-44df-a7f7-e08023fc05fe",
   "metadata": {},
   "outputs": [
    {
     "name": "stdout",
     "output_type": "stream",
     "text": [
      "5\n",
      "4\n",
      "3\n",
      "2\n",
      "1\n"
     ]
    }
   ],
   "source": [
    "def countdown(n):\n",
    "    while n > 0:\n",
    "        yield n\n",
    "        n -= 1\n",
    "gen = countdown(5)\n",
    "gen\n",
    "for i in gen:\n",
    "    print(i)"
   ]
  },
  {
   "cell_type": "markdown",
   "id": "a4c4b76b-7cf5-4201-8d4e-bd85ae6d4084",
   "metadata": {},
   "source": [
    "#A generator function for prime numbers less than 1000."
   ]
  },
  {
   "cell_type": "code",
   "execution_count": 37,
   "id": "24021781-2516-4109-99c1-d05b15c62bea",
   "metadata": {},
   "outputs": [],
   "source": [
    "def primes():\n",
    "    num = 2\n",
    "    \n",
    "    while num < 1000:\n",
    "        is_prime = True\n",
    "        \n",
    "        for i in range(2, int(num ** 0.5) + 1):\n",
    "            if num % i == 0:\n",
    "                is_prime = False\n",
    "                break\n",
    "        \n",
    "        if is_prime:\n",
    "            yield num\n",
    "        \n",
    "        num += 1\n"
   ]
  },
  {
   "cell_type": "markdown",
   "id": "92f32b7e-372b-4870-9e7f-09ecb070592c",
   "metadata": {},
   "source": [
    "#use the next() method to print the first 20 prime numbers."
   ]
  },
  {
   "cell_type": "code",
   "execution_count": 40,
   "id": "b64adff5-b2e9-4db0-9308-d3bcef7cfca0",
   "metadata": {},
   "outputs": [
    {
     "name": "stdout",
     "output_type": "stream",
     "text": [
      "2\n",
      "3\n",
      "5\n",
      "7\n",
      "11\n",
      "13\n",
      "17\n",
      "19\n",
      "23\n",
      "29\n",
      "31\n",
      "37\n",
      "41\n",
      "43\n",
      "47\n",
      "53\n",
      "59\n",
      "61\n",
      "67\n",
      "71\n"
     ]
    }
   ],
   "source": [
    "prime_gen = primes()\n",
    "for i in range(20):\n",
    "    print(next(prime_gen))"
   ]
  },
  {
   "cell_type": "markdown",
   "id": "d51d6c3f-b3c3-4c1b-937c-ded24d0c61ad",
   "metadata": {},
   "source": [
    "#Python program to print the first 10 Fibonacci numbers using a while loop."
   ]
  },
  {
   "cell_type": "code",
   "execution_count": 41,
   "id": "e397a80a-c9b1-481d-9180-23c36f207409",
   "metadata": {},
   "outputs": [
    {
     "name": "stdout",
     "output_type": "stream",
     "text": [
      "0\n",
      "1\n",
      "1\n",
      "2\n",
      "3\n",
      "5\n",
      "8\n",
      "13\n",
      "21\n",
      "34\n"
     ]
    }
   ],
   "source": [
    "a, b = 0, 1\n",
    "\n",
    "count = 0\n",
    "while count < 10:\n",
    "    print(a)\n",
    "    a, b = b, a + b\n",
    "\n",
    "    count += 1\n"
   ]
  },
  {
   "cell_type": "markdown",
   "id": "b273a932-4e36-405b-9daf-04d59856e20b",
   "metadata": {},
   "source": [
    "#List comprehension in Python that iterates through the string 'pwskills."
   ]
  },
  {
   "cell_type": "code",
   "execution_count": 42,
   "id": "e8bb0e65-5274-4eb3-9c0c-16d3cc1c3571",
   "metadata": {},
   "outputs": [
    {
     "name": "stdout",
     "output_type": "stream",
     "text": [
      "['p', 'w', 's', 'k', 'i', 'l', 'l', 's']\n"
     ]
    }
   ],
   "source": [
    "string = 'pwskills'\n",
    "result = [char for char in string if char in 'pwskills']\n",
    "print(result)\n"
   ]
  },
  {
   "cell_type": "markdown",
   "id": "dfa530dd-3ee6-4a41-908f-aa82a2904cd9",
   "metadata": {},
   "source": [
    "#An example program in Python that checks whether a given number is a palindrome or not using a while loop\n",
    "\n"
   ]
  },
  {
   "cell_type": "code",
   "execution_count": 45,
   "id": "b25c94dd-0137-4b4f-9ded-c681f5586bc8",
   "metadata": {},
   "outputs": [
    {
     "name": "stdin",
     "output_type": "stream",
     "text": [
      "Enter a number:  11\n"
     ]
    },
    {
     "name": "stdout",
     "output_type": "stream",
     "text": [
      "11 is a palindrome number\n"
     ]
    }
   ],
   "source": [
    "num = int(input(\"Enter a number: \"))\n",
    "\n",
    "reversed_num = 0\n",
    "\n",
    "original_num = num\n",
    "\n",
    "while num > 0:\n",
    "   \n",
    "    reversed_num = (reversed_num * 10) + (num % 10)\n",
    "    \n",
    "   \n",
    "    num = num // 10\n",
    "\n",
    "\n",
    "if original_num == reversed_num:\n",
    "    print(original_num, \"is a palindrome number\")\n",
    "else:\n",
    "    print(original_num, \"is not a palindrome number\")\n",
    "\n"
   ]
  },
  {
   "cell_type": "markdown",
   "id": "384ed9f5-1d5d-4a15-802b-7cf5382c91c6",
   "metadata": {},
   "source": [
    "#Use a list comprehension to generate a list of numbers from 1 to 100"
   ]
  },
  {
   "cell_type": "code",
   "execution_count": null,
   "id": "8552516a-7844-44ef-bfe0-8f23cee1f014",
   "metadata": {},
   "outputs": [],
   "source": []
  }
 ],
 "metadata": {
  "kernelspec": {
   "display_name": "Python 3 (ipykernel)",
   "language": "python",
   "name": "python3"
  },
  "language_info": {
   "codemirror_mode": {
    "name": "ipython",
    "version": 3
   },
   "file_extension": ".py",
   "mimetype": "text/x-python",
   "name": "python",
   "nbconvert_exporter": "python",
   "pygments_lexer": "ipython3",
   "version": "3.10.8"
  }
 },
 "nbformat": 4,
 "nbformat_minor": 5
}
