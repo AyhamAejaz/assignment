{
 "cells": [
  {
   "cell_type": "markdown",
   "id": "36181055-3279-4b39-857a-7388df2aa3a9",
   "metadata": {},
   "source": [
    "#Explain Class and Object with respect to Object-Oriented Programming. Give a suitable example."
   ]
  },
  {
   "cell_type": "markdown",
   "id": "bc0a6175-77cc-4764-b9f1-45cdb659a7eb",
   "metadata": {},
   "source": [
    "Object-oriented programming (OOP) is a programming paradigm that revolves around the concept of objects, which are instances of classes. In OOP, a class is a blueprint or a template for creating objects, while an object is a specific instance of a class.\n",
    "\n",
    "A class is a user-defined data type that encapsulates data and methods (functions) that operate on that data. It defines the properties and behaviors that objects of that class will have. Classes help in creating modular and reusable code, as well as enable abstraction, inheritance, and polymorphism.\n",
    "\n",
    "An object is an instance of a class. It is created using the class blueprint and has its own unique identity, state, and behavior. Objects can interact with each other through their methods and properties.\n",
    "\n",
    "For example, let's consider a class called \"Car\". This class can have properties like \"color\", \"model\", \"year\", \"mileage\", etc. It can also have methods like \"start\", \"accelerate\", \"brake\", \"turn\", etc. These methods define the behavior of a car object.\n",
    "\n",
    "We can create multiple car objects using the Car class blueprint, each with its own unique set of properties and behaviors. For instance, we can create a car object called \"myCar\" with the properties \"red\", \"SUV\", \"2019\", \"10,000 miles\", and behaviors defined by the methods of the Car class. Similarly, we can create another car object called \"yourCar\" with its own set of properties and behaviors."
   ]
  },
  {
   "cell_type": "markdown",
   "id": "94cb1b75-7218-4624-878b-ee83f91a7ac6",
   "metadata": {},
   "source": [
    "#Name the four pillars of OOPs."
   ]
  },
  {
   "cell_type": "markdown",
   "id": "5e8a66f5-6097-49ca-b1a2-f86c8775adf9",
   "metadata": {},
   "source": [
    "Encapsulation, Inheritance, Polymorphism, Abstraction"
   ]
  },
  {
   "cell_type": "markdown",
   "id": "c4684d3d-5176-469e-83b7-5516b87186bc",
   "metadata": {},
   "source": [
    "#Explain why the __init__() function is used. Give a suitable example."
   ]
  },
  {
   "cell_type": "markdown",
   "id": "fe95b31c-07c9-412b-a51f-f2a7909c61fd",
   "metadata": {},
   "source": [
    "In Object-Oriented Programming (OOP), the __init__() function is a special method that is used to initialize the attributes of a newly created object. The __init__() function is called automatically when an object is created and it takes the object itself as its first parameter (which is usually named self) followed by any additional arguments needed to initialize the object.\n",
    "\n",
    "The purpose of the __init__() function is to provide a convenient way to set up an object's attributes with default or user-defined values. It allows us to define the initial state of an object when it is created.\n",
    "\n",
    "For example, let's consider a class called \"Person\" that has attributes like name, age, and gender. We can define the __init__() function for this class to initialize the attributes of a newly created Person object:"
   ]
  },
  {
   "cell_type": "code",
   "execution_count": 6,
   "id": "3cf00d68-2d88-4522-aefb-3266db710deb",
   "metadata": {},
   "outputs": [],
   "source": [
    "class Person:\n",
    "    def __init__(self, name, age, gender):\n",
    "        self.name = name\n",
    "        self.age = age\n",
    "        self.gender = gender"
   ]
  },
  {
   "cell_type": "code",
   "execution_count": 8,
   "id": "91ada819-91fb-4209-b11d-1ef0abd1c235",
   "metadata": {},
   "outputs": [],
   "source": [
    "person1 = Person(\"John\", 25, \"Male\")"
   ]
  },
  {
   "cell_type": "code",
   "execution_count": 17,
   "id": "d6091aa1-84a2-44e3-8e67-09fb491b23b6",
   "metadata": {},
   "outputs": [
    {
     "data": {
      "text/plain": [
       "'John'"
      ]
     },
     "execution_count": 17,
     "metadata": {},
     "output_type": "execute_result"
    }
   ],
   "source": [
    "person1.name"
   ]
  },
  {
   "cell_type": "markdown",
   "id": "27708733-b1da-4605-952e-cb10ab012107",
   "metadata": {},
   "source": [
    "#Why self is used in OOPs?"
   ]
  },
  {
   "cell_type": "markdown",
   "id": "ca5671d4-d463-4cf3-bcd1-638c98639c48",
   "metadata": {},
   "source": [
    "In Object-Oriented Programming (OOP), self is a special keyword that is used to refer to the current instance of a class. It is used as the first parameter of instance methods in Python and represents the instance itself.\n",
    "\n",
    "When a class is instantiated, a new object is created in memory, and self refers to that newly created object. When we call a method on an object, Python automatically passes the object as the first argument to the method using the self parameter. This allows the method to access and modify the attributes of the object.\n",
    "\n"
   ]
  },
  {
   "cell_type": "markdown",
   "id": "10d52f80-8d9f-43d5-8c9e-3b99b0e45f93",
   "metadata": {},
   "source": [
    "#What is inheritance? Give an example for each type of inheritance."
   ]
  },
  {
   "cell_type": "markdown",
   "id": "8ca0f6d5-2b01-47aa-83a7-b6a29350ab86",
   "metadata": {},
   "source": [
    "Inheritance is a key feature of Object-Oriented Programming (OOP) that allows creating a new class (called the derived class or subclass) from an existing class (called the base class or superclass). The new class inherits the properties and behavior of the existing class, promoting code reuse and reducing code duplication.\n",
    "\n"
   ]
  },
  {
   "cell_type": "code",
   "execution_count": 18,
   "id": "e7556088-b5ff-4908-ab70-1d7fc3c6d5bc",
   "metadata": {},
   "outputs": [],
   "source": [
    "#Single Inheritance\n",
    "\n",
    "class Animal:\n",
    "    def __init__(self, name):\n",
    "        self.name = name\n",
    "        \n",
    "    def eat(self):\n",
    "        print(f\"{self.name} is eating.\")\n",
    "        \n",
    "class Dog(Animal):\n",
    "    def bark(self):\n",
    "        print(f\"{self.name} is barking.\")"
   ]
  },
  {
   "cell_type": "code",
   "execution_count": 19,
   "id": "b25efa68-6514-4a3d-b82b-127493acca09",
   "metadata": {},
   "outputs": [],
   "source": [
    "#Multiple inheritance\n",
    "\n",
    "class A:\n",
    "    def a_method(self):\n",
    "        print(\"This is a method from class A.\")\n",
    "\n",
    "class B:\n",
    "    def b_method(self):\n",
    "        print(\"This is methof from class B.\")\n",
    "\n",
    "class C(A, B):\n",
    "    def c_method(self):\n",
    "        print(\"this isa a method from class C.\")"
   ]
  },
  {
   "cell_type": "code",
   "execution_count": 1,
   "id": "3c25e9f7-57f3-4ca6-9e95-f06012c64007",
   "metadata": {},
   "outputs": [],
   "source": [
    "#Multi-level Inheritance\n",
    "\n",
    "class Animal:\n",
    "    def __init__(self, name):\n",
    "        self.name = name\n",
    "        \n",
    "    def eat(self):\n",
    "        print(f\"{self.name} is eating.\")\n",
    "        \n",
    "class Mammal(Animal):\n",
    "    def run(self):\n",
    "        print(f\"{self.name} is running.\")\n",
    "        \n",
    "class Dog(Mammal):\n",
    "    def barf(self):\n",
    "        print(f\"{self.name} is barking.\")\n",
    "              "
   ]
  },
  {
   "cell_type": "code",
   "execution_count": 2,
   "id": "3cd71cd5-a21b-41d7-84a2-c808b7ba7b64",
   "metadata": {},
   "outputs": [
    {
     "ename": "SyntaxError",
     "evalue": "incomplete input (1979485674.py, line 7)",
     "output_type": "error",
     "traceback": [
      "\u001b[0;36m  Cell \u001b[0;32mIn[2], line 7\u001b[0;36m\u001b[0m\n\u001b[0;31m    class Circle(shape):\u001b[0m\n\u001b[0m                        ^\u001b[0m\n\u001b[0;31mSyntaxError\u001b[0m\u001b[0;31m:\u001b[0m incomplete input\n"
     ]
    }
   ],
   "source": [
    "#Hierarchial Inheritance:\n",
    "\n",
    "class Shape:\n",
    "    def draw(self):\n",
    "        pass\n",
    "    \n",
    "class Circle(shape):\n",
    "    def draw(self):\n",
    "        print(\"Drawing a circle.\")\n",
    "        \n",
    "class "
   ]
  },
  {
   "cell_type": "code",
   "execution_count": null,
   "id": "2aecb231-b33a-42b2-ab3a-c01ee1628994",
   "metadata": {},
   "outputs": [],
   "source": []
  }
 ],
 "metadata": {
  "kernelspec": {
   "display_name": "Python 3 (ipykernel)",
   "language": "python",
   "name": "python3"
  },
  "language_info": {
   "codemirror_mode": {
    "name": "ipython",
    "version": 3
   },
   "file_extension": ".py",
   "mimetype": "text/x-python",
   "name": "python",
   "nbconvert_exporter": "python",
   "pygments_lexer": "ipython3",
   "version": "3.10.8"
  }
 },
 "nbformat": 4,
 "nbformat_minor": 5
}
