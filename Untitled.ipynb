{
 "cells": [
  {
   "cell_type": "markdown",
   "id": "bb483fcf-ad02-49be-8eda-e5ad8df9002e",
   "metadata": {},
   "source": [
    "#when to use a for loop"
   ]
  },
  {
   "cell_type": "code",
   "execution_count": 2,
   "id": "26a2ff6a-53ec-4e32-ac12-82ec92efd554",
   "metadata": {},
   "outputs": [
    {
     "name": "stdout",
     "output_type": "stream",
     "text": [
      "[1]\n",
      "[1, 4]\n",
      "[1, 4, 9]\n",
      "[1, 4, 9, 16]\n",
      "[1, 4, 9, 16, 81]\n",
      "[1, 4, 9, 16, 81, 256]\n"
     ]
    }
   ],
   "source": [
    "numbers = [1,2,3,4,9,16]\n",
    "b =[]\n",
    "for i in numbers:\n",
    "    b.append(i**2)\n",
    "    print(b)"
   ]
  },
  {
   "cell_type": "markdown",
   "id": "fa4d37f4-d89c-4d3b-9b81-bff9dd6070cf",
   "metadata": {},
   "source": [
    "#when to use a while looop"
   ]
  },
  {
   "cell_type": "code",
   "execution_count": 1,
   "id": "854fddb5-f7e6-4b52-ae44-355c94a7333c",
   "metadata": {},
   "outputs": [
    {
     "name": "stdout",
     "output_type": "stream",
     "text": [
      "10\n"
     ]
    }
   ],
   "source": [
    "number=5\n",
    "sum=0\n",
    "i=0\n",
    "while(i < number):\n",
    "    sum=sum + i\n",
    "    i=i+1\n",
    "print(sum)    "
   ]
  },
  {
   "cell_type": "markdown",
   "id": "56e94a0e-2a03-45f2-bd89-834b852314c9",
   "metadata": {},
   "source": [
    "#sum of first 10 natural numbers using for loop"
   ]
  },
  {
   "cell_type": "code",
   "execution_count": 3,
   "id": "73595309-cf9a-4e61-b234-69ce0bdefb49",
   "metadata": {},
   "outputs": [
    {
     "name": "stdin",
     "output_type": "stream",
     "text": [
      "Enter the number 10\n"
     ]
    },
    {
     "name": "stdout",
     "output_type": "stream",
     "text": [
      "55\n"
     ]
    }
   ],
   "source": [
    "number = int(input(\"Enter the number\"))\n",
    "sum=0\n",
    "for value in range(1, number+1):\n",
    "    sum= sum + value\n",
    "print(sum)    "
   ]
  },
  {
   "cell_type": "markdown",
   "id": "627971e5-42e3-47e3-9845-ea30baa35020",
   "metadata": {},
   "source": [
    "#product of first 10 natural numbers using for loop"
   ]
  },
  {
   "cell_type": "code",
   "execution_count": 5,
   "id": "102dd8ab-4d08-44e4-929b-6402c50cb728",
   "metadata": {},
   "outputs": [
    {
     "name": "stdout",
     "output_type": "stream",
     "text": [
      "3628800\n"
     ]
    }
   ],
   "source": [
    "product = 1\n",
    "for i in range(1, 11):\n",
    "    product *= i\n",
    "\n",
    "print(product)\n",
    "\n"
   ]
  },
  {
   "cell_type": "markdown",
   "id": "1c9c6aaf-6e46-46cd-98ce-7668626fe267",
   "metadata": {},
   "source": [
    "#sum of first 10 natural numbers using while loop"
   ]
  },
  {
   "cell_type": "code",
   "execution_count": 7,
   "id": "68e1c0da-6b39-450c-b462-82e5131d4fbc",
   "metadata": {},
   "outputs": [
    {
     "name": "stdout",
     "output_type": "stream",
     "text": [
      "55\n"
     ]
    }
   ],
   "source": [
    "sum = 0\n",
    "i = 1\n",
    "while i <= 10:\n",
    "    sum += i\n",
    "    i += 1\n",
    "\n",
    "print(sum)\n"
   ]
  },
  {
   "cell_type": "markdown",
   "id": "0f312438-46f3-425e-8efa-fe577cc542f7",
   "metadata": {},
   "source": [
    "#product of first 10 natural numbers using while loop"
   ]
  },
  {
   "cell_type": "code",
   "execution_count": 9,
   "id": "c0894b6b-70f0-4f3c-b0e1-05f9d6952a95",
   "metadata": {},
   "outputs": [
    {
     "name": "stdout",
     "output_type": "stream",
     "text": [
      "3628800\n"
     ]
    }
   ],
   "source": [
    "product = 1\n",
    "i = 1\n",
    "while i <= 10:\n",
    "    product *= i\n",
    "    i += 1\n",
    "\n",
    "print(product)\n"
   ]
  },
  {
   "cell_type": "markdown",
   "id": "72887db0-b931-4704-8873-a86b0de27fa6",
   "metadata": {},
   "source": [
    "#Create a python program to compute the electricity bill for a household."
   ]
  },
  {
   "cell_type": "code",
   "execution_count": 13,
   "id": "b2a49ae6-04fe-4cf2-9250-4da132873a54",
   "metadata": {},
   "outputs": [
    {
     "name": "stdin",
     "output_type": "stream",
     "text": [
      "Enter the units of electricity consumed:  310\n"
     ]
    },
    {
     "name": "stdout",
     "output_type": "stream",
     "text": [
      "Your electricity bill for the month is: Rs. 2250.0\n"
     ]
    }
   ],
   "source": [
    "units_consumed = int(input(\"Enter the units of electricity consumed: \"))\n",
    "\n",
    "if units_consumed <= 100:\n",
    "    bill_amount = units_consumed * 4.5\n",
    "elif units_consumed <= 200:\n",
    "    bill_amount = 100 * 4.5 + (units_consumed - 100) * 6\n",
    "elif units_consumed <= 300:\n",
    "    bill_amount = 100 * 4.5 + 100 * 6 + (units_consumed - 200) * 10\n",
    "else:\n",
    "    bill_amount = 100 * 4.5 + 100 * 6 + 100 * 10 + (units_consumed - 300) * 20\n",
    "\n",
    "print(\"Your electricity bill for the month is: Rs.\", bill_amount)\n"
   ]
  },
  {
   "cell_type": "markdown",
   "id": "5b089964-a89b-4f95-ad9f-20b78f19a78a",
   "metadata": {},
   "source": [
    "#create a list of numbers from 1 to 100, calculate the cube of each number, and append the numbers whose cube is divisible by 4 or 5 to a new list using for loop"
   ]
  },
  {
   "cell_type": "code",
   "execution_count": 16,
   "id": "b2b2ef0e-629c-45b2-b1c4-3020677ef357",
   "metadata": {},
   "outputs": [
    {
     "name": "stdout",
     "output_type": "stream",
     "text": [
      "[2, 4, 5, 6, 8, 10, 12, 14, 15, 16, 18, 20, 22, 24, 25, 26, 28, 30, 32, 34, 35, 36, 38, 40, 42, 44, 45, 46, 48, 50, 52, 54, 55, 56, 58, 60, 62, 64, 65, 66, 68, 70, 72, 74, 75, 76, 78, 80, 82, 84, 85, 86, 88, 90, 92, 94, 95, 96, 98, 100]\n"
     ]
    }
   ],
   "source": [
    "numbers = list(range(1, 101))\n",
    "cubes = []\n",
    "for num in numbers:\n",
    "    cube = num ** 3\n",
    "    if cube % 4 == 0 or cube % 5 == 0:\n",
    "        cubes.append(num)\n",
    "print(cubes)\n"
   ]
  },
  {
   "cell_type": "markdown",
   "id": "54252580-b930-46aa-8f70-01de40d8debe",
   "metadata": {},
   "source": [
    "#create a list of numbers from 1 to 100, calculate the cube of each number, and append the numbers whose cube is divisible by 4 or 5 to a new list using for loop"
   ]
  },
  {
   "cell_type": "code",
   "execution_count": 18,
   "id": "12dd6b27-bdf3-488f-9aa9-3c7d28b69e72",
   "metadata": {},
   "outputs": [
    {
     "name": "stdout",
     "output_type": "stream",
     "text": [
      "[2, 4, 5, 6, 8, 10, 12, 14, 15, 16, 18, 20, 22, 24, 25, 26, 28, 30, 32, 34, 35, 36, 38, 40, 42, 44, 45, 46, 48, 50, 52, 54, 55, 56, 58, 60, 62, 64, 65, 66, 68, 70, 72, 74, 75, 76, 78, 80, 82, 84, 85, 86, 88, 90, 92, 94, 95, 96, 98, 100]\n"
     ]
    }
   ],
   "source": [
    "numbers = list(range(1, 101))\n",
    "cubes = []\n",
    "i = 0\n",
    "while i < len(numbers):\n",
    "    num = numbers[i]\n",
    "    cube = num ** 3\n",
    "    if cube % 4 == 0 or cube % 5 == 0:\n",
    "        cubes.append(num)\n",
    "    i += 1\n",
    "print(cubes)\n"
   ]
  },
  {
   "cell_type": "markdown",
   "id": "a59b5d64-81e5-4131-884e-54d416188fd5",
   "metadata": {},
   "source": [
    "#write a program in Python to filter and count the vowels in the given string\n"
   ]
  },
  {
   "cell_type": "code",
   "execution_count": null,
   "id": "ff6955c5-58ba-45a3-be90-3a46eed1baee",
   "metadata": {},
   "outputs": [],
   "source": [
    "string = \"I want to become a data scientist\"\n",
    "vowels = ['a', 'e', 'i', 'o', 'u']\n",
    "vowel_count = 0\n",
    "for char in string:\n",
    "    if char.lower() in vowels:\n",
    "        # increment the vowel counter\n",
    "        vowel_count += 1\n",
    "        \n",
    "# print the vowel count\n",
    "print(\"The number of vowels in the string is:\", vowel_count)\n"
   ]
  }
 ],
 "metadata": {
  "kernelspec": {
   "display_name": "Python 3 (ipykernel)",
   "language": "python",
   "name": "python3"
  },
  "language_info": {
   "codemirror_mode": {
    "name": "ipython",
    "version": 3
   },
   "file_extension": ".py",
   "mimetype": "text/x-python",
   "name": "python",
   "nbconvert_exporter": "python",
   "pygments_lexer": "ipython3",
   "version": "3.10.8"
  }
 },
 "nbformat": 4,
 "nbformat_minor": 5
}
