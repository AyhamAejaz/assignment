{
 "cells": [
  {
   "cell_type": "markdown",
   "id": "c007cd8f-18af-4d7b-a8be-94d9de72dd86",
   "metadata": {},
   "source": [
    "#A python program to sort the given list of tuples based on integer value using a\n",
    "lambda function."
   ]
  },
  {
   "cell_type": "code",
   "execution_count": 1,
   "id": "e5db2d83-6876-49a7-893f-b78da395ceba",
   "metadata": {},
   "outputs": [
    {
     "name": "stdout",
     "output_type": "stream",
     "text": [
      "[('Sachin Tendulkar', 34357), ('Ricky Ponting', 27483), ('Jack Kallis', 25534), ('Virat Kohli', 24936)]\n"
     ]
    }
   ],
   "source": [
    "players = [('Sachin Tendulkar', 34357), ('Ricky Ponting', 27483), ('Jack Kallis', 25534), ('Virat Kohli', 24936)]\n",
    "sorted_players = sorted(players, key=lambda x: x[1], reverse=True)\n",
    "print(sorted_players)"
   ]
  },
  {
   "cell_type": "markdown",
   "id": "d8e3e39c-a6a2-4caa-b930-9ed31e98447c",
   "metadata": {},
   "source": [
    "#A Python Program to find the squares of all the numbers in the given list of integers using\n",
    "lambda and map functions."
   ]
  },
  {
   "cell_type": "code",
   "execution_count": 8,
   "id": "b0c1b26b-c4dc-405a-927f-150a76c14465",
   "metadata": {},
   "outputs": [
    {
     "name": "stdout",
     "output_type": "stream",
     "text": [
      "[1, 4, 9, 16, 25, 36, 49, 64, 81, 100]\n"
     ]
    }
   ],
   "source": [
    "nums = [1, 2, 3, 4, 5, 6, 7, 8, 9, 10]\n",
    "squares = list(map(lambda x: x**2, nums))\n",
    "print(squares)"
   ]
  },
  {
   "cell_type": "markdown",
   "id": "7ca49115-79f6-4ae2-80af-9431dc0b8ab9",
   "metadata": {},
   "source": [
    "#A python program to convert the given list of integers into a tuple of strings. Use map and\n",
    "lambda function."
   ]
  },
  {
   "cell_type": "code",
   "execution_count": 12,
   "id": "58bdca25-494e-4135-b569-6e1b06540a12",
   "metadata": {},
   "outputs": [
    {
     "name": "stdout",
     "output_type": "stream",
     "text": [
      "('1', '2', '3', '4', '5', '6', '7', '8', '9', '10')\n"
     ]
    }
   ],
   "source": [
    "nums = [1,2,3,4,5,6,7,8,9,10]\n",
    "strings = tuple(map(lambda x: str(x), nums))\n",
    "print(strings)"
   ]
  },
  {
   "cell_type": "markdown",
   "id": "cf1d0abd-8a4c-4b1c-88c8-9ceca1ef7332",
   "metadata": {},
   "source": [
    "#A python program using reduce function to compute the product of a list containing numbers\n",
    "from 1 to 25."
   ]
  },
  {
   "cell_type": "code",
   "execution_count": 15,
   "id": "239f3db8-6742-4cd7-856f-0f4e324fc4fe",
   "metadata": {},
   "outputs": [
    {
     "name": "stdout",
     "output_type": "stream",
     "text": [
      "15511210043330985984000000\n"
     ]
    }
   ],
   "source": [
    "from functools import reduce\n",
    "\n",
    "nums = list(range(1, 26))\n",
    "   \n",
    "product = reduce(lambda x, y: x*y, nums)\n",
    "\n",
    "print(product)"
   ]
  },
  {
   "cell_type": "markdown",
   "id": "2d24a951-2a52-44ba-ac65-d3237e4b6a45",
   "metadata": {},
   "source": [
    "#A python program to filter the numbers in a given list that are divisible by 2 and 3 using the\n",
    "filter function."
   ]
  },
  {
   "cell_type": "code",
   "execution_count": 3,
   "id": "55f7a0a9-82a0-48c2-8249-cbc6028116a7",
   "metadata": {},
   "outputs": [
    {
     "name": "stdout",
     "output_type": "stream",
     "text": [
      "[6, 60, 90, 120]\n"
     ]
    }
   ],
   "source": [
    "nums = [2, 3, 6, 9, 27, 60, 90, 120, 55, 46]\n",
    "filtered_nums = list(filter(lambda x: x % 2 == 0 and x%3 ==0, nums))\n",
    "print(filtered_nums)"
   ]
  },
  {
   "cell_type": "markdown",
   "id": "945b2089-a835-4760-990f-495f819cdc6d",
   "metadata": {},
   "source": [
    "#A python program to find palindromes in the given list of strings using lambda and filter\n",
    "function."
   ]
  },
  {
   "cell_type": "code",
   "execution_count": null,
   "id": "237978e2-4c92-4b8a-8eba-d1e34d341159",
   "metadata": {},
   "outputs": [],
   "source": [
    "words = [ 'python', 'p"
   ]
  }
 ],
 "metadata": {
  "kernelspec": {
   "display_name": "Python 3 (ipykernel)",
   "language": "python",
   "name": "python3"
  },
  "language_info": {
   "codemirror_mode": {
    "name": "ipython",
    "version": 3
   },
   "file_extension": ".py",
   "mimetype": "text/x-python",
   "name": "python",
   "nbconvert_exporter": "python",
   "pygments_lexer": "ipython3",
   "version": "3.10.8"
  }
 },
 "nbformat": 4,
 "nbformat_minor": 5
}
